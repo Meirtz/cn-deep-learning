{
 "cells": [
  {
   "cell_type": "markdown",
   "metadata": {
    "collapsed": true
   },
   "source": [
    "# 图像分类\n",
    "\n",
    "在此项目中，你将对 [CIFAR-10 数据集](https://www.cs.toronto.edu/~kriz/cifar.html) 中的图片进行分类。该数据集包含飞机、猫狗和其他物体。你需要预处理这些图片，然后用所有样本训练一个卷积神经网络。图片需要标准化（normalized），标签需要采用 one-hot 编码。你需要应用所学的知识构建卷积的、最大池化（max pooling）、丢弃（dropout）和完全连接（fully connected）的层。最后，你需要在样本图片上看到神经网络的预测结果。\n",
    "\n",
    "\n",
    "## 获取数据\n",
    "\n",
    "请运行以下单元，以下载 [CIFAR-10 数据集（Python版）](https://www.cs.toronto.edu/~kriz/cifar-10-python.tar.gz)。\n"
   ]
  },
  {
   "cell_type": "code",
   "execution_count": 1,
   "metadata": {},
   "outputs": [
    {
     "name": "stdout",
     "output_type": "stream",
     "text": [
      "All files found!\n"
     ]
    }
   ],
   "source": [
    "\"\"\"\n",
    "DON'T MODIFY ANYTHING IN THIS CELL THAT IS BELOW THIS LINE\n",
    "\"\"\"\n",
    "from urllib.request import urlretrieve\n",
    "from os.path import isfile, isdir\n",
    "from tqdm import tqdm\n",
    "import problem_unittests as tests\n",
    "import tarfile\n",
    "\n",
    "cifar10_dataset_folder_path = 'cifar-10-batches-py'\n",
    "\n",
    "# Use Floyd's cifar-10 dataset if present\n",
    "floyd_cifar10_location = '/input/cifar-10/python.tar.gz'\n",
    "if isfile(floyd_cifar10_location):\n",
    "    tar_gz_path = floyd_cifar10_location\n",
    "else:\n",
    "    tar_gz_path = 'cifar-10-python.tar.gz'\n",
    "\n",
    "class DLProgress(tqdm):\n",
    "    last_block = 0\n",
    "\n",
    "    def hook(self, block_num=1, block_size=1, total_size=None):\n",
    "        self.total = total_size\n",
    "        self.update((block_num - self.last_block) * block_size)\n",
    "        self.last_block = block_num\n",
    "\n",
    "if not isfile(tar_gz_path):\n",
    "    with DLProgress(unit='B', unit_scale=True, miniters=1, desc='CIFAR-10 Dataset') as pbar:\n",
    "        urlretrieve(\n",
    "            'https://www.cs.toronto.edu/~kriz/cifar-10-python.tar.gz',\n",
    "            tar_gz_path,\n",
    "            pbar.hook)\n",
    "\n",
    "if not isdir(cifar10_dataset_folder_path):\n",
    "    with tarfile.open(tar_gz_path) as tar:\n",
    "        tar.extractall()\n",
    "        tar.close()\n",
    "\n",
    "\n",
    "tests.test_folder_path(cifar10_dataset_folder_path)"
   ]
  },
  {
   "cell_type": "markdown",
   "metadata": {},
   "source": [
    "## 探索数据\n",
    "\n",
    "该数据集分成了几部分／批次（batches），以免你的机器在计算时内存不足。CIFAR-10 数据集包含 5 个部分，名称分别为 `data_batch_1`、`data_batch_2`，以此类推。每个部分都包含以下某个类别的标签和图片：\n",
    "\n",
    "* 飞机\n",
    "* 汽车\n",
    "* 鸟类\n",
    "* 猫\n",
    "* 鹿\n",
    "* 狗\n",
    "* 青蛙\n",
    "* 马\n",
    "* 船只\n",
    "* 卡车\n",
    "\n",
    "了解数据集也是对数据进行预测的必经步骤。你可以通过更改 `batch_id` 和 `sample_id` 探索下面的代码单元。`batch_id` 是数据集一个部分的 ID（1 到 5）。`sample_id` 是该部分中图片和标签对（label pair）的 ID。\n",
    "\n",
    "问问你自己：“可能的标签有哪些？”、“图片数据的值范围是多少？”、“标签是按顺序排列，还是随机排列的？”。思考类似的问题，有助于你预处理数据，并使预测结果更准确。\n"
   ]
  },
  {
   "cell_type": "code",
   "execution_count": 2,
   "metadata": {},
   "outputs": [
    {
     "name": "stdout",
     "output_type": "stream",
     "text": [
      "\n",
      "Stats of batch 1:\n",
      "Samples: 10000\n",
      "Label Counts: {0: 1005, 1: 974, 2: 1032, 3: 1016, 4: 999, 5: 937, 6: 1030, 7: 1001, 8: 1025, 9: 981}\n",
      "First 20 Labels: [6, 9, 9, 4, 1, 1, 2, 7, 8, 3, 4, 7, 7, 2, 9, 9, 9, 3, 2, 6]\n",
      "\n",
      "Example of Image 5:\n",
      "Image - Min Value: 0 Max Value: 252\n",
      "Image - Shape: (32, 32, 3)\n",
      "Label - Label Id: 1 Name: automobile\n"
     ]
    },
    {
     "data": {
      "image/png": "[encoded data removed]",
      "text/plain": [
       "<matplotlib.figure.Figure at 0x7f385d88ba90>"
      ]
     },
     "metadata": {
      "image/png": {
       "height": 250,
       "width": 253
      }
     },
     "output_type": "display_data"
    }
   ],
   "source": [
    "%matplotlib inline\n",
    "%config InlineBackend.figure_format = 'retina'\n",
    "\n",
    "import helper\n",
    "import numpy as np\n",
    "\n",
    "# Explore the dataset\n",
    "batch_id = 1\n",
    "sample_id = 5\n",
    "helper.display_stats(cifar10_dataset_folder_path, batch_id, sample_id)"
   ]
  },
  {
   "cell_type": "markdown",
   "metadata": {},
   "source": [
    "## 实现预处理函数\n",
    "\n",
    "### 标准化\n",
    "\n",
    "在下面的单元中，实现 `normalize` 函数，传入图片数据 `x`，并返回标准化 Numpy 数组。值应该在 0 到 1 的范围内（含 0 和 1）。返回对象应该和 `x` 的形状一样。\n"
   ]
  },
  {
   "cell_type": "code",
   "execution_count": 3,
   "metadata": {},
   "outputs": [
    {
     "name": "stdout",
     "output_type": "stream",
     "text": [
      "Tests Passed\n"
     ]
    },
    {
     "name": "stderr",
     "output_type": "stream",
     "text": [
      "/home/meirtz/anaconda3/envs/dl_dev/lib/python3.5/site-packages/sklearn/utils/validation.py:429: DataConversionWarning: Data with input dtype int64 was converted to float64 by the normalize function.\n",
      "  warnings.warn(msg, _DataConversionWarning)\n"
     ]
    }
   ],
   "source": [
    "from sklearn import preprocessing \n",
    "def normalize(x):\n",
    "    \"\"\"\n",
    "    Normalize a list of sample image data in the range of 0 to 1\n",
    "    : x: List of image data.  The image shape is (32, 32, 3)\n",
    "    : return: Numpy array of normalize data\n",
    "    \"\"\"\n",
    "    # TODO: Implement Function\n",
    "    x_len = x.shape[0]\n",
    "    # print (np.reshape(preprocessing.normalize(np.reshape(x, (x_len, -1))), (x_len, 32, 32, 3)))\n",
    "    return np.reshape(preprocessing.normalize(np.reshape(x, (x_len, -1))), (x_len, 32, 32, 3))\n",
    "\"\"\"\n",
    "DON'T MODIFY ANYTHING IN THIS CELL THAT IS BELOW THIS LINE\n",
    "\"\"\"\n",
    "tests.test_normalize(normalize)"
   ]
  },
  {
   "cell_type": "markdown",
   "metadata": {},
   "source": [
    "### One-hot 编码\n",
    "\n",
    "和之前的代码单元一样，你将为预处理实现一个函数。这次，你将实现 `one_hot_encode` 函数。输入，也就是 `x`，是一个标签列表。实现该函数，以返回为 one_hot 编码的 Numpy 数组的标签列表。标签的可能值为 0 到 9。每次调用 `one_hot_encode` 时，对于每个值，one_hot 编码函数应该返回相同的编码。确保将编码映射保存到该函数外面。\n",
    "\n",
    "提示：不要重复发明轮子。\n"
   ]
  },
  {
   "cell_type": "code",
   "execution_count": 4,
   "metadata": {},
   "outputs": [
    {
     "name": "stdout",
     "output_type": "stream",
     "text": [
      "Tests Passed\n"
     ]
    }
   ],
   "source": [
    "def one_hot_encode(x):\n",
    "    \"\"\"\n",
    "    One hot encode a list of sample labels. Return a one-hot encoded vector for each label.\n",
    "    : x: List of sample Labels\n",
    "    : return: Numpy array of one-hot encoded labels\n",
    "    \"\"\"\n",
    "\n",
    "    # TODO: Implement Function\n",
    "    y = np.zeros([len(x), 10])\n",
    "    for i,j in enumerate(x):\n",
    "        y[i, j] = 1\n",
    "\n",
    "    return y\n",
    "\n",
    "\n",
    "\n",
    "\"\"\"\n",
    "DON'T MODIFY ANYTHING IN THIS CELL THAT IS BELOW THIS LINE\n",
    "\"\"\"\n",
    "tests.test_one_hot_encode(one_hot_encode)"
   ]
  },
  {
   "cell_type": "markdown",
   "metadata": {},
   "source": [
    "### 随机化数据\n",
    "\n",
    "之前探索数据时，你已经了解到，样本的顺序是随机的。再随机化一次也不会有什么关系，但是对于这个数据集没有必要。\n"
   ]
  },
  {
   "cell_type": "markdown",
   "metadata": {},
   "source": [
    "## 预处理所有数据并保存\n",
    "\n",
    "运行下方的代码单元，将预处理所有 CIFAR-10 数据，并保存到文件中。下面的代码还使用了 10% 的训练数据，用来验证。\n"
   ]
  },
  {
   "cell_type": "code",
   "execution_count": 5,
   "metadata": {},
   "outputs": [
    {
     "name": "stderr",
     "output_type": "stream",
     "text": [
      "/home/meirtz/anaconda3/envs/dl_dev/lib/python3.5/site-packages/sklearn/utils/validation.py:429: DataConversionWarning: Data with input dtype uint8 was converted to float64 by the normalize function.\n",
      "  warnings.warn(msg, _DataConversionWarning)\n"
     ]
    }
   ],
   "source": [
    "\"\"\"\n",
    "DON'T MODIFY ANYTHING IN THIS CELL\n",
    "\"\"\"\n",
    "# Preprocess Training, Validation, and Testing Data\n",
    "helper.preprocess_and_save_data(cifar10_dataset_folder_path, normalize, one_hot_encode)"
   ]
  },
  {
   "cell_type": "markdown",
   "metadata": {},
   "source": [
    "# 检查点\n",
    "\n",
    "这是你的第一个检查点。如果你什么时候决定再回到该记事本，或需要重新启动该记事本，你可以从这里开始。预处理的数据已保存到本地。\n"
   ]
  },
  {
   "cell_type": "code",
   "execution_count": 6,
   "metadata": {},
   "outputs": [],
   "source": [
    "\"\"\"\n",
    "DON'T MODIFY ANYTHING IN THIS CELL\n",
    "\"\"\"\n",
    "import pickle\n",
    "import problem_unittests as tests\n",
    "import helper\n",
    "\n",
    "# Load the Preprocessed Validation data\n",
    "valid_features, valid_labels = pickle.load(open('preprocess_validation.p', mode='rb'))"
   ]
  },
  {
   "cell_type": "markdown",
   "metadata": {},
   "source": [
    "## 构建网络\n",
    "\n",
    "对于该神经网络，你需要将每层都构建为一个函数。你看到的大部分代码都位于函数外面。要更全面地测试你的代码，我们需要你将每层放入一个函数中。这样使我们能够提供更好的反馈，并使用我们的统一测试检测简单的错误，然后再提交项目。\n",
    "\n",
    ">**注意**：如果你觉得每周很难抽出足够的时间学习这门课程，我们为此项目提供了一个小捷径。对于接下来的几个问题，你可以使用 [TensorFlow Layers](https://www.tensorflow.org/api_docs/python/tf/layers) 或 [TensorFlow Layers (contrib)](https://www.tensorflow.org/api_guides/python/contrib.layers) 程序包中的类来构建每个层级，但是“卷积和最大池化层级”部分的层级除外。TF Layers 和 Keras 及 TFLearn 层级类似，因此很容易学会。\n",
    "\n",
    ">但是，如果你想充分利用这门课程，请尝试自己解决所有问题，不使用 TF Layers 程序包中的任何类。你依然可以使用其他程序包中的类，这些类和你在 TF Layers 中的类名称是一样的！例如，你可以使用 TF Neural Network 版本的 `conv2d` 类 [tf.nn.conv2d](https://www.tensorflow.org/api_docs/python/tf/nn/conv2d)，而不是 TF Layers 版本的 `conv2d` 类 [tf.layers.conv2d](https://www.tensorflow.org/api_docs/python/tf/layers/conv2d)。\n",
    "\n",
    "我们开始吧！\n",
    "\n",
    "\n",
    "### 输入\n",
    "\n",
    "神经网络需要读取图片数据、one-hot 编码标签和丢弃保留概率（dropout keep probability）。请实现以下函数：\n",
    "\n",
    "* 实现 `neural_net_image_input`\n",
    " * 返回 [TF Placeholder](https://www.tensorflow.org/api_docs/python/tf/placeholder)\n",
    " * 使用 `image_shape` 设置形状，部分大小设为 `None`\n",
    " * 使用 [TF Placeholder](https://www.tensorflow.org/api_docs/python/tf/placeholder) 中的 TensorFlow `name` 参数对 TensorFlow 占位符 \"x\" 命名\n",
    "* 实现 `neural_net_label_input`\n",
    " * 返回 [TF Placeholder](https://www.tensorflow.org/api_docs/python/tf/placeholder)\n",
    " * 使用 `n_classes` 设置形状，部分大小设为 `None`\n",
    " * 使用 [TF Placeholder](https://www.tensorflow.org/api_docs/python/tf/placeholder) 中的 TensorFlow `name` 参数对 TensorFlow 占位符 \"y\" 命名\n",
    "* 实现 `neural_net_keep_prob_input`\n",
    " * 返回 [TF Placeholder](https://www.tensorflow.org/api_docs/python/tf/placeholder)，用于丢弃保留概率\n",
    " * 使用 [TF Placeholder](https://www.tensorflow.org/api_docs/python/tf/placeholder) 中的 TensorFlow `name` 参数对 TensorFlow 占位符 \"keep_prob\" 命名\n",
    "\n",
    "这些名称将在项目结束时，用于加载保存的模型。\n",
    "\n",
    "注意：TensorFlow 中的 `None` 表示形状可以是动态大小。"
   ]
  },
  {
   "cell_type": "code",
   "execution_count": 7,
   "metadata": {},
   "outputs": [
    {
     "name": "stdout",
     "output_type": "stream",
     "text": [
      "Image Input Tests Passed.\n",
      "Label Input Tests Passed.\n",
      "Keep Prob Tests Passed.\n"
     ]
    }
   ],
   "source": [
    "import tensorflow as tf\n",
    "\n",
    "def neural_net_image_input(image_shape):\n",
    "    \"\"\"\n",
    "    Return a Tensor for a batch of image input\n",
    "    : image_shape: Shape of the images\n",
    "    : return: Tensor for image input.\n",
    "    \"\"\"\n",
    "    # TODO: Implement Function\n",
    "    \n",
    "    return tf.placeholder(tf.float32, [None, image_shape[0], image_shape[1], image_shape[2]], name=\"x\")\n",
    "\n",
    "\n",
    "def neural_net_label_input(n_classes):\n",
    "    \"\"\"\n",
    "    Return a Tensor for a batch of label input\n",
    "    : n_classes: Number of classes\n",
    "    : return: Tensor for label input.\n",
    "    \"\"\"\n",
    "    # TODO: Implement Function\n",
    "    return tf.placeholder(tf.float32, [None, n_classes], name=\"y\")\n",
    "\n",
    "\n",
    "def neural_net_keep_prob_input():\n",
    "    \"\"\"\n",
    "    Return a Tensor for keep probability\n",
    "    : return: Tensor for keep probability.\n",
    "    \"\"\"\n",
    "    # TODO: Implement Function\n",
    "    return tf.placeholder(tf.float32, name=\"keep_prob\")\n",
    "\n",
    "\n",
    "\"\"\"\n",
    "DON'T MODIFY ANYTHING IN THIS CELL THAT IS BELOW THIS LINE\n",
    "\"\"\"\n",
    "tf.reset_default_graph()\n",
    "tests.test_nn_image_inputs(neural_net_image_input)\n",
    "tests.test_nn_label_inputs(neural_net_label_input)\n",
    "tests.test_nn_keep_prob_inputs(neural_net_keep_prob_input)"
   ]
  },
  {
   "cell_type": "markdown",
   "metadata": {},
   "source": [
    "### 卷积和最大池化层\n",
    "\n",
    "卷积层级适合处理图片。对于此代码单元，你应该实现函数 `conv2d_maxpool` 以便应用卷积然后进行最大池化：\n",
    "\n",
    "* 使用 `conv_ksize`、`conv_num_outputs` 和 `x_tensor` 的形状创建权重（weight）和偏置（bias）。\n",
    "* 使用权重和 `conv_strides` 对 `x_tensor` 应用卷积。\n",
    " * 建议使用我们建议的间距（padding），当然也可以使用任何其他间距。\n",
    "* 添加偏置\n",
    "* 向卷积中添加非线性激活（nonlinear activation）\n",
    "* 使用 `pool_ksize` 和 `pool_strides` 应用最大池化\n",
    " * 建议使用我们建议的间距（padding），当然也可以使用任何其他间距。\n",
    "\n",
    "**注意**：对于**此层**，**请勿使用** [TensorFlow Layers](https://www.tensorflow.org/api_docs/python/tf/layers) 或 [TensorFlow Layers (contrib)](https://www.tensorflow.org/api_guides/python/contrib.layers)，但是仍然可以使用 TensorFlow 的 [Neural Network](https://www.tensorflow.org/api_docs/python/tf/nn) 包。对于所有**其他层**，你依然可以使用快捷方法。\n"
   ]
  },
  {
   "cell_type": "code",
   "execution_count": 8,
   "metadata": {},
   "outputs": [
    {
     "name": "stdout",
     "output_type": "stream",
     "text": [
      "Tests Passed\n"
     ]
    }
   ],
   "source": [
    "def conv2d_maxpool(x_tensor, conv_num_outputs, conv_ksize, conv_strides, pool_ksize, pool_strides):\n",
    "    \"\"\"\n",
    "    Apply convolution then max pooling to x_tensor\n",
    "    :param x_tensor: TensorFlow Tensor\n",
    "    :param conv_num_outputs: Number of outputs for the convolutional layer\n",
    "    :param conv_ksize: kernal size 2-D Tuple for the convolutional layer\n",
    "    :param conv_strides: Stride 2-D Tuple for convolution\n",
    "    :param pool_ksize: kernal size 2-D Tuple for pool\n",
    "    :param pool_strides: Stride 2-D Tuple for pool\n",
    "    : return: A tensor that represents convolution and max pooling of x_tensor\n",
    "    \"\"\"\n",
    "    # TODO: Implement Function\n",
    "    #height，weight，depth，numbers\n",
    "    '''\n",
    "    channel = x_tensor.get_shape().as_list()[-1]\n",
    "    my_conv = tf.layers.conv2d(\n",
    "        inputs=x_tensor,\n",
    "        filters=conv_num_outputs,\n",
    "        kernel_size=conv_ksize,\n",
    "        strides=conv_strides,\n",
    "        padding='same',\n",
    "        data_format='channels_last',\n",
    "        dilation_rate=(1, 1),\n",
    "        activation=tf.nn.relu,\n",
    "        use_bias=True,\n",
    "        kernel_initializer=None,\n",
    "        bias_initializer=tf.zeros_initializer(),\n",
    "        kernel_regularizer=None,\n",
    "        bias_regularizer=None,\n",
    "        activity_regularizer=None,\n",
    "        trainable=True,\n",
    "        name=None,\n",
    "        reuse=None\n",
    "    )\n",
    "    tf.layers.max_pooling2d(inputs=my_conv, pool_size=pool_ksize, strides=pool_strides)\n",
    "    \n",
    "    '''\n",
    "    \n",
    "    \n",
    "    channel = x_tensor.get_shape().as_list()[-1]\n",
    "    w = tf.Variable(tf.truncated_normal([conv_ksize[0], conv_ksize[1], channel, conv_num_outputs], stddev=0.1))\n",
    "    b = tf.Variable(tf.zeros([conv_num_outputs]))\n",
    "    \n",
    "    cstrides = [1, conv_strides[0], conv_strides[1], 1]\n",
    "    cksize = [1, conv_ksize[0], conv_ksize[1], 1]\n",
    "    pstrides = [1, pool_strides[0], pool_strides[1], 1]\n",
    "    pksize = [1, pool_ksize[0], pool_ksize[1], 1]\n",
    "    padding = \"SAME\"\n",
    "    \n",
    "    x_tensor = tf.nn.conv2d(x_tensor, w, strides=cstrides, padding=padding)\n",
    "    x_tensor = tf.nn.bias_add(x_tensor, b)\n",
    "    x_tensor = tf.nn.relu(x_tensor)\n",
    "    x_tensor = tf.nn.max_pool(x_tensor, ksize=pksize, strides=pstrides, padding=padding)\n",
    "    return x_tensor\n",
    "    \n",
    "    \n",
    "    \n",
    "    \n",
    "\n",
    "\n",
    "\"\"\"\n",
    "DON'T MODIFY ANYTHING IN THIS CELL THAT IS BELOW THIS LINE\n",
    "\"\"\"\n",
    "tests.test_con_pool(conv2d_maxpool)"
   ]
  },
  {
   "cell_type": "markdown",
   "metadata": {},
   "source": [
    "### 扁平化层\n",
    "\n",
    "实现 `flatten` 函数，将 `x_tensor` 的维度从四维张量（4-D tensor）变成二维张量。输出应该是形状（*部分大小（Batch Size）*，*扁平化图片大小（Flattened Image Size）*）。快捷方法：对于此层，你可以使用 [TensorFlow Layers](https://www.tensorflow.org/api_docs/python/tf/layers) 或 [TensorFlow Layers (contrib)](https://www.tensorflow.org/api_guides/python/contrib.layers) 包中的类。如果你想要更大挑战，可以仅使用其他 TensorFlow 程序包。\n"
   ]
  },
  {
   "cell_type": "code",
   "execution_count": 9,
   "metadata": {},
   "outputs": [
    {
     "name": "stdout",
     "output_type": "stream",
     "text": [
      "Tests Passed\n"
     ]
    }
   ],
   "source": [
    "def flatten(x_tensor):\n",
    "    \"\"\"\n",
    "    Flatten x_tensor to (Batch Size, Flattened Image Size)\n",
    "    : x_tensor: A tensor of size (Batch Size, ...), where ... are the image dimensions.\n",
    "    : return: A tensor of size (Batch Size, Flattened Image Size).\n",
    "    \"\"\"\n",
    "    # TODO: Implement Function\n",
    "    return tf.contrib.layers.flatten(x_tensor)\n",
    "\n",
    "\n",
    "\"\"\"\n",
    "DON'T MODIFY ANYTHING IN THIS CELL THAT IS BELOW THIS LINE\n",
    "\"\"\"\n",
    "tests.test_flatten(flatten)"
   ]
  },
  {
   "cell_type": "markdown",
   "metadata": {},
   "source": [
    "### 完全连接的层\n",
    "\n",
    "实现 `fully_conn` 函数，以向 `x_tensor` 应用完全连接的层级，形状为（*部分大小（Batch Size）*，*num_outputs*）。快捷方法：对于此层，你可以使用 [TensorFlow Layers](https://www.tensorflow.org/api_docs/python/tf/layers) 或 [TensorFlow Layers (contrib)](https://www.tensorflow.org/api_guides/python/contrib.layers) 包中的类。如果你想要更大挑战，可以仅使用其他 TensorFlow 程序包。"
   ]
  },
  {
   "cell_type": "code",
   "execution_count": 10,
   "metadata": {},
   "outputs": [
    {
     "name": "stdout",
     "output_type": "stream",
     "text": [
      "Tests Passed\n"
     ]
    }
   ],
   "source": [
    "def fully_conn(x_tensor, num_outputs):\n",
    "    \"\"\"\n",
    "    Apply a fully connected layer to x_tensor using weight and bias\n",
    "    : x_tensor: A 2-D tensor where the first dimension is batch size.\n",
    "    : num_outputs: The number of output that the new tensor should be.\n",
    "    : return: A 2-D tensor where the second dimension is num_outputs.\n",
    "    \"\"\"\n",
    "    # TODO: Implement Function\n",
    "    return tf.contrib.layers.fully_connected(x_tensor, num_outputs)\n",
    "\n",
    "\n",
    "\"\"\"\n",
    "DON'T MODIFY ANYTHING IN THIS CELL THAT IS BELOW THIS LINE\n",
    "\"\"\"\n",
    "tests.test_fully_conn(fully_conn)"
   ]
  },
  {
   "cell_type": "markdown",
   "metadata": {},
   "source": [
    "### 输出层\n",
    "\n",
    "实现 `output` 函数，向 x_tensor 应用完全连接的层级，形状为（*部分大小（Batch Size）*，*num_outputs*）。快捷方法：对于此层，你可以使用 [TensorFlow Layers](https://www.tensorflow.org/api_docs/python/tf/layers) 或 [TensorFlow Layers (contrib)](https://www.tensorflow.org/api_guides/python/contrib.layers) 包中的类。如果你想要更大挑战，可以仅使用其他 TensorFlow 程序包。\n",
    "\n",
    "**注意**：该层级不应应用 Activation、softmax 或交叉熵（cross entropy）。"
   ]
  },
  {
   "cell_type": "code",
   "execution_count": 11,
   "metadata": {},
   "outputs": [
    {
     "name": "stdout",
     "output_type": "stream",
     "text": [
      "Tests Passed\n"
     ]
    }
   ],
   "source": [
    "def output(x_tensor, num_outputs):\n",
    "    \"\"\"\n",
    "    Apply a output layer to x_tensor using weight and bias\n",
    "    : x_tensor: A 2-D tensor where the first dimension is batch size.\n",
    "    : num_outputs: The number of output that the new tensor should be.\n",
    "    : return: A 2-D tensor where the second dimension is num_outputs.\n",
    "    \"\"\"\n",
    "    # TODO: Implement Function\n",
    "    channel = x_tensor.get_shape().as_list()[-1]\n",
    "    w = tf.Variable(tf.truncated_normal([channel, num_outputs], stddev = 0.1))\n",
    "    b = tf.Variable(tf.truncated_normal([num_outputs]))\n",
    "    x_tensor = tf.matmul(x_tensor, w) + b\n",
    "    return x_tensor\n",
    "\n",
    "\n",
    "\"\"\"\n",
    "DON'T MODIFY ANYTHING IN THIS CELL THAT IS BELOW THIS LINE\n",
    "\"\"\"\n",
    "tests.test_output(output)"
   ]
  },
  {
   "cell_type": "markdown",
   "metadata": {},
   "source": [
    "### 创建卷积模型\n",
    "\n",
    "实现函数 `conv_net`， 创建卷积神经网络模型。该函数传入一批图片 `x`，并输出对数（logits）。使用你在上方创建的层创建此模型：\n",
    "\n",
    "* 应用 1、2 或 3 个卷积和最大池化层（Convolution and Max Pool layers）\n",
    "* 应用一个扁平层（Flatten Layer）\n",
    "* 应用 1、2 或 3 个完全连接层（Fully Connected Layers）\n",
    "* 应用一个输出层（Output Layer）\n",
    "* 返回输出\n",
    "* 使用 `keep_prob` 向模型中的一个或多个层应用 [TensorFlow 的 Dropout](https://www.tensorflow.org/api_docs/python/tf/nn/dropout)"
   ]
  },
  {
   "cell_type": "code",
   "execution_count": 12,
   "metadata": {},
   "outputs": [
    {
     "name": "stdout",
     "output_type": "stream",
     "text": [
      "Neural Network Built!\n"
     ]
    }
   ],
   "source": [
    "def conv_net(x, keep_prob):\n",
    "    \"\"\"\n",
    "    Create a convolutional neural network model\n",
    "    : x: Placeholder tensor that holds image data.\n",
    "    : keep_prob: Placeholder tensor that hold dropout keep probability.\n",
    "    : return: Tensor that represents logits\n",
    "    \"\"\"\n",
    "    # TODO: Apply 1, 2, or 3 Convolution and Max Pool layers\n",
    "    #    Play around with different number of outputs, kernel size and stride\n",
    "    # Function Definition from Above:\n",
    "    #    conv2d_maxpool(x_tensor, conv_num_outputs, conv_ksize, conv_strides, pool_ksize, pool_strides)\n",
    "    net = conv2d_maxpool(x, 20, (6,6), (1,1), (2,2), (1,1))\n",
    "    \n",
    "\n",
    "    # TODO: Apply a Flatten Layer\n",
    "    # Function Definition from Above:\n",
    "    #   flatten(x_tensor)\n",
    "    net = flatten(net)\n",
    "    \n",
    "\n",
    "    # TODO: Apply 1, 2, or 3 Fully Connected Layers\n",
    "    #    Play around with different number of outputs\n",
    "    # Function Definition from Above:\n",
    "    #   fully_conn(x_tensor, num_outputs)\n",
    "    net = fully_conn(net, 20)\n",
    "    net = tf.nn.dropout(net, keep_prob)\n",
    "    \n",
    "    \n",
    "    # TODO: Apply an Output Layer\n",
    "    #    Set this to the number of classes\n",
    "    # Function Definition from Above:\n",
    "    #   output(x_tensor, num_outputs)\n",
    "    net = output(net, 10)\n",
    "    \n",
    "    \n",
    "    # TODO: return output\n",
    "    return net\n",
    "\n",
    "\n",
    "\"\"\"\n",
    "DON'T MODIFY ANYTHING IN THIS CELL THAT IS BELOW THIS LINE\n",
    "\"\"\"\n",
    "\n",
    "##############################\n",
    "## Build the Neural Network ##\n",
    "##############################\n",
    "\n",
    "# Remove previous weights, bias, inputs, etc..\n",
    "tf.reset_default_graph()\n",
    "\n",
    "# Inputs\n",
    "x = neural_net_image_input((32, 32, 3))\n",
    "y = neural_net_label_input(10)\n",
    "keep_prob = neural_net_keep_prob_input()\n",
    "\n",
    "# Model\n",
    "logits = conv_net(x, keep_prob)\n",
    "\n",
    "# Name logits Tensor, so that is can be loaded from disk after training\n",
    "logits = tf.identity(logits, name='logits')\n",
    "\n",
    "# Loss and Optimizer\n",
    "cost = tf.reduce_mean(tf.nn.softmax_cross_entropy_with_logits(logits=logits, labels=y))\n",
    "optimizer = tf.train.AdamOptimizer().minimize(cost)\n",
    "\n",
    "# Accuracy\n",
    "correct_pred = tf.equal(tf.argmax(logits, 1), tf.argmax(y, 1))\n",
    "accuracy = tf.reduce_mean(tf.cast(correct_pred, tf.float32), name='accuracy')\n",
    "\n",
    "tests.test_conv_net(conv_net)"
   ]
  },
  {
   "cell_type": "markdown",
   "metadata": {},
   "source": [
    "## 训练神经网络\n",
    "\n",
    "### 单次优化\n",
    "\n",
    "实现函数 `train_neural_network` 以进行单次优化（single optimization）。该优化应该使用 `optimizer` 优化 `session`，其中 `feed_dict` 具有以下参数：\n",
    "\n",
    "* `x` 表示图片输入\n",
    "* `y` 表示标签\n",
    "* `keep_prob` 表示丢弃的保留率\n",
    "\n",
    "每个部分都会调用该函数，所以 `tf.global_variables_initializer()` 已经被调用。\n",
    "\n",
    "注意：不需要返回任何内容。该函数只是用来优化神经网络。\n"
   ]
  },
  {
   "cell_type": "code",
   "execution_count": 13,
   "metadata": {},
   "outputs": [
    {
     "name": "stdout",
     "output_type": "stream",
     "text": [
      "Tests Passed\n"
     ]
    }
   ],
   "source": [
    "def train_neural_network(session, optimizer, keep_probability, feature_batch, label_batch):\n",
    "    \"\"\"\n",
    "    Optimize the session on a batch of images and labels\n",
    "    : session: Current TensorFlow session\n",
    "    : optimizer: TensorFlow optimizer function\n",
    "    : keep_probability: keep probability\n",
    "    : feature_batch: Batch of Numpy image data\n",
    "    : label_batch: Batch of Numpy label data\n",
    "    \"\"\"\n",
    "    # TODO: Implement Function\n",
    "    session.run(optimizer, feed_dict={\n",
    "        keep_prob: keep_probability, \n",
    "        x: feature_batch, \n",
    "        y: label_batch})\n",
    "\n",
    "\n",
    "\"\"\"\n",
    "DON'T MODIFY ANYTHING IN THIS CELL THAT IS BELOW THIS LINE\n",
    "\"\"\"\n",
    "tests.test_train_nn(train_neural_network)"
   ]
  },
  {
   "cell_type": "markdown",
   "metadata": {},
   "source": [
    "### 显示数据\n",
    "\n",
    "实现函数 `print_stats` 以输出损失和验证准确率。使用全局变量 `valid_features` 和 `valid_labels` 计算验证准确率。使用保留率 `1.0` 计算损失和验证准确率（loss and validation accuracy）。\n"
   ]
  },
  {
   "cell_type": "code",
   "execution_count": 14,
   "metadata": {
    "collapsed": true
   },
   "outputs": [],
   "source": [
    "def print_stats(session, feature_batch, label_batch, cost, accuracy):\n",
    "    \"\"\"\n",
    "    Print information about loss and validation accuracy\n",
    "    : session: Current TensorFlow session\n",
    "    : feature_batch: Batch of Numpy image data\n",
    "    : label_batch: Batch of Numpy label data\n",
    "    : cost: TensorFlow cost function\n",
    "    : accuracy: TensorFlow accuracy function\n",
    "    \"\"\"\n",
    "    # TODO: Implement Function\n",
    "    \n",
    "    loss = session.run(cost, feed_dict={\n",
    "        x:feature_batch, \n",
    "        y:label_batch, \n",
    "        keep_prob:1.})\n",
    "    \n",
    "    val_acc = session.run(accuracy, feed_dict={\n",
    "        x:valid_features,\n",
    "        y:valid_labels,\n",
    "        keep_prob:1.\n",
    "    })\n",
    "    print('loss: {:>.4f} val_acc: {:.4f}'.format(loss, val_acc))"
   ]
  },
  {
   "cell_type": "markdown",
   "metadata": {},
   "source": [
    "### 超参数\n",
    "\n",
    "调试以下超参数：\n",
    "* 设置 `epochs` 表示神经网络停止学习或开始过拟合的迭代次数\n",
    "* 设置 `batch_size`，表示机器内存允许的部分最大体积。大部分人设为以下常见内存大小：\n",
    "\n",
    " * 64\n",
    " * 128\n",
    " * 256\n",
    " * ...\n",
    "* 设置 `keep_probability` 表示使用丢弃时保留节点的概率"
   ]
  },
  {
   "cell_type": "code",
   "execution_count": 15,
   "metadata": {
    "collapsed": true
   },
   "outputs": [],
   "source": [
    "# TODO: Tune Parameters\n",
    "epochs = 45\n",
    "batch_size = 128\n",
    "keep_probability = 0.42"
   ]
  },
  {
   "cell_type": "markdown",
   "metadata": {},
   "source": [
    "### 在单个 CIFAR-10 部分上训练\n",
    "\n",
    "我们先用单个部分，而不是用所有的 CIFAR-10 批次训练神经网络。这样可以节省时间，并对模型进行迭代，以提高准确率。最终验证准确率达到 50% 或以上之后，在下一部分对所有数据运行模型。\n"
   ]
  },
  {
   "cell_type": "code",
   "execution_count": 16,
   "metadata": {},
   "outputs": [
    {
     "name": "stdout",
     "output_type": "stream",
     "text": [
      "Checking the Training on a Single Batch...\n",
      "Epoch  1, CIFAR-10 Batch 1:  loss: 2.2737 val_acc: 0.1694\n",
      "Epoch  2, CIFAR-10 Batch 1:  loss: 2.1969 val_acc: 0.2170\n",
      "Epoch  3, CIFAR-10 Batch 1:  loss: 2.1975 val_acc: 0.2124\n",
      "Epoch  4, CIFAR-10 Batch 1:  loss: 2.1671 val_acc: 0.2148\n",
      "Epoch  5, CIFAR-10 Batch 1:  loss: 2.1371 val_acc: 0.2334\n",
      "Epoch  6, CIFAR-10 Batch 1:  loss: 2.1216 val_acc: 0.2376\n",
      "Epoch  7, CIFAR-10 Batch 1:  loss: 2.1032 val_acc: 0.2726\n",
      "Epoch  8, CIFAR-10 Batch 1:  loss: 2.0961 val_acc: 0.2752\n",
      "Epoch  9, CIFAR-10 Batch 1:  loss: 2.0909 val_acc: 0.2864\n",
      "Epoch 10, CIFAR-10 Batch 1:  loss: 2.0727 val_acc: 0.2926\n",
      "Epoch 11, CIFAR-10 Batch 1:  loss: 2.0496 val_acc: 0.3032\n",
      "Epoch 12, CIFAR-10 Batch 1:  loss: 2.0136 val_acc: 0.3104\n",
      "Epoch 13, CIFAR-10 Batch 1:  loss: 2.0281 val_acc: 0.3174\n",
      "Epoch 14, CIFAR-10 Batch 1:  loss: 1.9936 val_acc: 0.3104\n",
      "Epoch 15, CIFAR-10 Batch 1:  loss: 1.9768 val_acc: 0.3154\n",
      "Epoch 16, CIFAR-10 Batch 1:  loss: 1.9831 val_acc: 0.3292\n",
      "Epoch 17, CIFAR-10 Batch 1:  loss: 1.9702 val_acc: 0.3440\n",
      "Epoch 18, CIFAR-10 Batch 1:  loss: 1.9574 val_acc: 0.3508\n",
      "Epoch 19, CIFAR-10 Batch 1:  loss: 1.9271 val_acc: 0.3686\n",
      "Epoch 20, CIFAR-10 Batch 1:  loss: 1.9173 val_acc: 0.3566\n",
      "Epoch 21, CIFAR-10 Batch 1:  loss: 1.9222 val_acc: 0.3590\n",
      "Epoch 22, CIFAR-10 Batch 1:  loss: 1.8964 val_acc: 0.3716\n",
      "Epoch 23, CIFAR-10 Batch 1:  loss: 1.8758 val_acc: 0.3890\n",
      "Epoch 24, CIFAR-10 Batch 1:  loss: 1.8457 val_acc: 0.3892\n",
      "Epoch 25, CIFAR-10 Batch 1:  loss: 1.8464 val_acc: 0.3822\n",
      "Epoch 26, CIFAR-10 Batch 1:  loss: 1.8425 val_acc: 0.4014\n",
      "Epoch 27, CIFAR-10 Batch 1:  loss: 1.7974 val_acc: 0.3974\n",
      "Epoch 28, CIFAR-10 Batch 1:  loss: 1.7813 val_acc: 0.4144\n",
      "Epoch 29, CIFAR-10 Batch 1:  loss: 1.7810 val_acc: 0.4078\n",
      "Epoch 30, CIFAR-10 Batch 1:  loss: 1.7394 val_acc: 0.4138\n",
      "Epoch 31, CIFAR-10 Batch 1:  loss: 1.7484 val_acc: 0.4164\n",
      "Epoch 32, CIFAR-10 Batch 1:  loss: 1.7498 val_acc: 0.4162\n",
      "Epoch 33, CIFAR-10 Batch 1:  loss: 1.7351 val_acc: 0.4144\n",
      "Epoch 34, CIFAR-10 Batch 1:  loss: 1.7413 val_acc: 0.4154\n",
      "Epoch 35, CIFAR-10 Batch 1:  loss: 1.7108 val_acc: 0.4202\n",
      "Epoch 36, CIFAR-10 Batch 1:  loss: 1.6887 val_acc: 0.4290\n",
      "Epoch 37, CIFAR-10 Batch 1:  loss: 1.7019 val_acc: 0.4246\n",
      "Epoch 38, CIFAR-10 Batch 1:  loss: 1.6576 val_acc: 0.4236\n",
      "Epoch 39, CIFAR-10 Batch 1:  loss: 1.6729 val_acc: 0.4240\n",
      "Epoch 40, CIFAR-10 Batch 1:  loss: 1.6696 val_acc: 0.4242\n",
      "Epoch 41, CIFAR-10 Batch 1:  loss: 1.6340 val_acc: 0.4218\n",
      "Epoch 42, CIFAR-10 Batch 1:  loss: 1.6372 val_acc: 0.4332\n",
      "Epoch 43, CIFAR-10 Batch 1:  loss: 1.6396 val_acc: 0.4324\n",
      "Epoch 44, CIFAR-10 Batch 1:  loss: 1.6213 val_acc: 0.4338\n",
      "Epoch 45, CIFAR-10 Batch 1:  loss: 1.6055 val_acc: 0.4316\n"
     ]
    }
   ],
   "source": [
    "\"\"\"\n",
    "DON'T MODIFY ANYTHING IN THIS CELL\n",
    "\"\"\"\n",
    "print('Checking the Training on a Single Batch...')\n",
    "with tf.Session() as sess:\n",
    "    # Initializing the variables\n",
    "    sess.run(tf.global_variables_initializer())\n",
    "    \n",
    "    # Training cycle\n",
    "    for epoch in range(epochs):\n",
    "        batch_i = 1\n",
    "        for batch_features, batch_labels in helper.load_preprocess_training_batch(batch_i, batch_size):\n",
    "            train_neural_network(sess, optimizer, keep_probability, batch_features, batch_labels)\n",
    "        print('Epoch {:>2}, CIFAR-10 Batch {}:  '.format(epoch + 1, batch_i), end='')\n",
    "        print_stats(sess, batch_features, batch_labels, cost, accuracy)"
   ]
  },
  {
   "cell_type": "markdown",
   "metadata": {},
   "source": [
    "### 完全训练模型\n",
    "\n",
    "现在，单个 CIFAR-10 部分的准确率已经不错了，试试所有五个部分吧。"
   ]
  },
  {
   "cell_type": "code",
   "execution_count": 17,
   "metadata": {
    "scrolled": false
   },
   "outputs": [
    {
     "name": "stdout",
     "output_type": "stream",
     "text": [
      "Training...\n",
      "Epoch  1, CIFAR-10 Batch 1:  loss: 2.3000 val_acc: 0.1678\n",
      "Epoch  1, CIFAR-10 Batch 2:  loss: 2.1729 val_acc: 0.2228\n",
      "Epoch  1, CIFAR-10 Batch 3:  loss: 1.9573 val_acc: 0.2472\n",
      "Epoch  1, CIFAR-10 Batch 4:  loss: 1.9839 val_acc: 0.2530\n",
      "Epoch  1, CIFAR-10 Batch 5:  loss: 2.0485 val_acc: 0.2612\n",
      "Epoch  2, CIFAR-10 Batch 1:  loss: 2.0950 val_acc: 0.2676\n",
      "Epoch  2, CIFAR-10 Batch 2:  loss: 2.0189 val_acc: 0.2682\n",
      "Epoch  2, CIFAR-10 Batch 3:  loss: 1.7862 val_acc: 0.3044\n",
      "Epoch  2, CIFAR-10 Batch 4:  loss: 1.8694 val_acc: 0.2996\n",
      "Epoch  2, CIFAR-10 Batch 5:  loss: 1.8996 val_acc: 0.2908\n",
      "Epoch  3, CIFAR-10 Batch 1:  loss: 2.0374 val_acc: 0.2446\n",
      "Epoch  3, CIFAR-10 Batch 2:  loss: 1.9277 val_acc: 0.3064\n",
      "Epoch  3, CIFAR-10 Batch 3:  loss: 1.7105 val_acc: 0.3238\n",
      "Epoch  3, CIFAR-10 Batch 4:  loss: 1.8231 val_acc: 0.3336\n",
      "Epoch  3, CIFAR-10 Batch 5:  loss: 1.8060 val_acc: 0.3388\n",
      "Epoch  4, CIFAR-10 Batch 1:  loss: 1.9597 val_acc: 0.2918\n",
      "Epoch  4, CIFAR-10 Batch 2:  loss: 1.8908 val_acc: 0.2982\n",
      "Epoch  4, CIFAR-10 Batch 3:  loss: 1.6192 val_acc: 0.3486\n",
      "Epoch  4, CIFAR-10 Batch 4:  loss: 1.7873 val_acc: 0.3508\n",
      "Epoch  4, CIFAR-10 Batch 5:  loss: 1.7912 val_acc: 0.3252\n",
      "Epoch  5, CIFAR-10 Batch 1:  loss: 1.9018 val_acc: 0.3442\n",
      "Epoch  5, CIFAR-10 Batch 2:  loss: 1.7767 val_acc: 0.3526\n",
      "Epoch  5, CIFAR-10 Batch 3:  loss: 1.5781 val_acc: 0.3674\n",
      "Epoch  5, CIFAR-10 Batch 4:  loss: 1.7523 val_acc: 0.3906\n",
      "Epoch  5, CIFAR-10 Batch 5:  loss: 1.6650 val_acc: 0.3818\n",
      "Epoch  6, CIFAR-10 Batch 1:  loss: 1.8631 val_acc: 0.3560\n",
      "Epoch  6, CIFAR-10 Batch 2:  loss: 1.7133 val_acc: 0.3848\n",
      "Epoch  6, CIFAR-10 Batch 3:  loss: 1.5166 val_acc: 0.4076\n",
      "Epoch  6, CIFAR-10 Batch 4:  loss: 1.7227 val_acc: 0.4020\n",
      "Epoch  6, CIFAR-10 Batch 5:  loss: 1.6525 val_acc: 0.3890\n",
      "Epoch  7, CIFAR-10 Batch 1:  loss: 1.8017 val_acc: 0.3826\n",
      "Epoch  7, CIFAR-10 Batch 2:  loss: 1.7087 val_acc: 0.3902\n",
      "Epoch  7, CIFAR-10 Batch 3:  loss: 1.4838 val_acc: 0.4170\n",
      "Epoch  7, CIFAR-10 Batch 4:  loss: 1.6867 val_acc: 0.4216\n",
      "Epoch  7, CIFAR-10 Batch 5:  loss: 1.6479 val_acc: 0.4092\n",
      "Epoch  8, CIFAR-10 Batch 1:  loss: 1.7980 val_acc: 0.3866\n",
      "Epoch  8, CIFAR-10 Batch 2:  loss: 1.6739 val_acc: 0.4258\n",
      "Epoch  8, CIFAR-10 Batch 3:  loss: 1.4831 val_acc: 0.4142\n",
      "Epoch  8, CIFAR-10 Batch 4:  loss: 1.6710 val_acc: 0.4282\n",
      "Epoch  8, CIFAR-10 Batch 5:  loss: 1.6072 val_acc: 0.4144\n",
      "Epoch  9, CIFAR-10 Batch 1:  loss: 1.7372 val_acc: 0.4194\n",
      "Epoch  9, CIFAR-10 Batch 2:  loss: 1.6429 val_acc: 0.4188\n",
      "Epoch  9, CIFAR-10 Batch 3:  loss: 1.4394 val_acc: 0.4324\n",
      "Epoch  9, CIFAR-10 Batch 4:  loss: 1.6375 val_acc: 0.4230\n",
      "Epoch  9, CIFAR-10 Batch 5:  loss: 1.5988 val_acc: 0.4136\n",
      "Epoch 10, CIFAR-10 Batch 1:  loss: 1.6943 val_acc: 0.4242\n",
      "Epoch 10, CIFAR-10 Batch 2:  loss: 1.6216 val_acc: 0.4280\n",
      "Epoch 10, CIFAR-10 Batch 3:  loss: 1.4184 val_acc: 0.4380\n",
      "Epoch 10, CIFAR-10 Batch 4:  loss: 1.6331 val_acc: 0.4394\n",
      "Epoch 10, CIFAR-10 Batch 5:  loss: 1.4998 val_acc: 0.4368\n",
      "Epoch 11, CIFAR-10 Batch 1:  loss: 1.6909 val_acc: 0.4434\n",
      "Epoch 11, CIFAR-10 Batch 2:  loss: 1.6051 val_acc: 0.4320\n",
      "Epoch 11, CIFAR-10 Batch 3:  loss: 1.3974 val_acc: 0.4400\n",
      "Epoch 11, CIFAR-10 Batch 4:  loss: 1.6461 val_acc: 0.4316\n",
      "Epoch 11, CIFAR-10 Batch 5:  loss: 1.5246 val_acc: 0.4408\n",
      "Epoch 12, CIFAR-10 Batch 1:  loss: 1.6717 val_acc: 0.4420\n",
      "Epoch 12, CIFAR-10 Batch 2:  loss: 1.5724 val_acc: 0.4424\n",
      "Epoch 12, CIFAR-10 Batch 3:  loss: 1.3676 val_acc: 0.4464\n",
      "Epoch 12, CIFAR-10 Batch 4:  loss: 1.6021 val_acc: 0.4610\n",
      "Epoch 12, CIFAR-10 Batch 5:  loss: 1.5106 val_acc: 0.4448\n",
      "Epoch 13, CIFAR-10 Batch 1:  loss: 1.6230 val_acc: 0.4514\n",
      "Epoch 13, CIFAR-10 Batch 2:  loss: 1.5621 val_acc: 0.4388\n",
      "Epoch 13, CIFAR-10 Batch 3:  loss: 1.3475 val_acc: 0.4550\n",
      "Epoch 13, CIFAR-10 Batch 4:  loss: 1.6090 val_acc: 0.4600\n",
      "Epoch 13, CIFAR-10 Batch 5:  loss: 1.4790 val_acc: 0.4570\n",
      "Epoch 14, CIFAR-10 Batch 1:  loss: 1.5935 val_acc: 0.4500\n",
      "Epoch 14, CIFAR-10 Batch 2:  loss: 1.6070 val_acc: 0.4232\n",
      "Epoch 14, CIFAR-10 Batch 3:  loss: 1.3685 val_acc: 0.4558\n",
      "Epoch 14, CIFAR-10 Batch 4:  loss: 1.5715 val_acc: 0.4678\n",
      "Epoch 14, CIFAR-10 Batch 5:  loss: 1.4526 val_acc: 0.4636\n",
      "Epoch 15, CIFAR-10 Batch 1:  loss: 1.5620 val_acc: 0.4560\n",
      "Epoch 15, CIFAR-10 Batch 2:  loss: 1.5141 val_acc: 0.4552\n",
      "Epoch 15, CIFAR-10 Batch 3:  loss: 1.3230 val_acc: 0.4646\n",
      "Epoch 15, CIFAR-10 Batch 4:  loss: 1.5628 val_acc: 0.4700\n",
      "Epoch 15, CIFAR-10 Batch 5:  loss: 1.4160 val_acc: 0.4712\n",
      "Epoch 16, CIFAR-10 Batch 1:  loss: 1.5596 val_acc: 0.4686\n",
      "Epoch 16, CIFAR-10 Batch 2:  loss: 1.4818 val_acc: 0.4662\n",
      "Epoch 16, CIFAR-10 Batch 3:  loss: 1.3653 val_acc: 0.4560\n",
      "Epoch 16, CIFAR-10 Batch 4:  loss: 1.5451 val_acc: 0.4754\n",
      "Epoch 16, CIFAR-10 Batch 5:  loss: 1.4566 val_acc: 0.4574\n",
      "Epoch 17, CIFAR-10 Batch 1:  loss: 1.5246 val_acc: 0.4684\n",
      "Epoch 17, CIFAR-10 Batch 2:  loss: 1.4829 val_acc: 0.4634\n",
      "Epoch 17, CIFAR-10 Batch 3:  loss: 1.3019 val_acc: 0.4752\n",
      "Epoch 17, CIFAR-10 Batch 4:  loss: 1.5339 val_acc: 0.4794\n",
      "Epoch 17, CIFAR-10 Batch 5:  loss: 1.3457 val_acc: 0.4828\n",
      "Epoch 18, CIFAR-10 Batch 1:  loss: 1.5058 val_acc: 0.4728\n",
      "Epoch 18, CIFAR-10 Batch 2:  loss: 1.4440 val_acc: 0.4740\n",
      "Epoch 18, CIFAR-10 Batch 3:  loss: 1.2804 val_acc: 0.4788\n",
      "Epoch 18, CIFAR-10 Batch 4:  loss: 1.5152 val_acc: 0.4838\n",
      "Epoch 18, CIFAR-10 Batch 5:  loss: 1.4363 val_acc: 0.4538\n",
      "Epoch 19, CIFAR-10 Batch 1:  loss: 1.4653 val_acc: 0.4684\n",
      "Epoch 19, CIFAR-10 Batch 2:  loss: 1.4947 val_acc: 0.4388\n",
      "Epoch 19, CIFAR-10 Batch 3:  loss: 1.2562 val_acc: 0.4784\n",
      "Epoch 19, CIFAR-10 Batch 4:  loss: 1.5028 val_acc: 0.4842\n",
      "Epoch 19, CIFAR-10 Batch 5:  loss: 1.3921 val_acc: 0.4814\n",
      "Epoch 20, CIFAR-10 Batch 1:  loss: 1.4752 val_acc: 0.4704\n",
      "Epoch 20, CIFAR-10 Batch 2:  loss: 1.4126 val_acc: 0.4894\n",
      "Epoch 20, CIFAR-10 Batch 3:  loss: 1.2901 val_acc: 0.4768\n",
      "Epoch 20, CIFAR-10 Batch 4:  loss: 1.5058 val_acc: 0.4806\n",
      "Epoch 20, CIFAR-10 Batch 5:  loss: 1.3642 val_acc: 0.4808\n",
      "Epoch 21, CIFAR-10 Batch 1:  loss: 1.4339 val_acc: 0.4788\n",
      "Epoch 21, CIFAR-10 Batch 2:  loss: 1.4169 val_acc: 0.4736\n",
      "Epoch 21, CIFAR-10 Batch 3:  loss: 1.2874 val_acc: 0.4700\n",
      "Epoch 21, CIFAR-10 Batch 4:  loss: 1.4589 val_acc: 0.4854\n",
      "Epoch 21, CIFAR-10 Batch 5:  loss: 1.3539 val_acc: 0.4746\n",
      "Epoch 22, CIFAR-10 Batch 1:  loss: 1.4804 val_acc: 0.4722\n",
      "Epoch 22, CIFAR-10 Batch 2:  loss: 1.3813 val_acc: 0.4788\n",
      "Epoch 22, CIFAR-10 Batch 3:  loss: 1.2725 val_acc: 0.4840\n",
      "Epoch 22, CIFAR-10 Batch 4:  loss: 1.4405 val_acc: 0.4858\n",
      "Epoch 22, CIFAR-10 Batch 5:  loss: 1.3443 val_acc: 0.4852\n",
      "Epoch 23, CIFAR-10 Batch 1:  loss: 1.4486 val_acc: 0.4912\n",
      "Epoch 23, CIFAR-10 Batch 2:  loss: 1.4233 val_acc: 0.4588\n",
      "Epoch 23, CIFAR-10 Batch 3:  loss: 1.2494 val_acc: 0.4954\n",
      "Epoch 23, CIFAR-10 Batch 4:  loss: 1.4420 val_acc: 0.4908\n",
      "Epoch 23, CIFAR-10 Batch 5:  loss: 1.3223 val_acc: 0.4952\n",
      "Epoch 24, CIFAR-10 Batch 1:  loss: 1.4107 val_acc: 0.4868\n",
      "Epoch 24, CIFAR-10 Batch 2:  loss: 1.3588 val_acc: 0.4932\n",
      "Epoch 24, CIFAR-10 Batch 3:  loss: 1.2218 val_acc: 0.4844\n",
      "Epoch 24, CIFAR-10 Batch 4:  loss: 1.4300 val_acc: 0.4880\n",
      "Epoch 24, CIFAR-10 Batch 5:  loss: 1.2706 val_acc: 0.4956\n",
      "Epoch 25, CIFAR-10 Batch 1:  loss: 1.3882 val_acc: 0.4944\n",
      "Epoch 25, CIFAR-10 Batch 2:  loss: 1.3654 val_acc: 0.4932\n",
      "Epoch 25, CIFAR-10 Batch 3:  loss: 1.2104 val_acc: 0.4934\n",
      "Epoch 25, CIFAR-10 Batch 4:  loss: 1.4430 val_acc: 0.4894\n",
      "Epoch 25, CIFAR-10 Batch 5:  loss: 1.2558 val_acc: 0.5020\n",
      "Epoch 26, CIFAR-10 Batch 1:  loss: 1.3914 val_acc: 0.4930\n",
      "Epoch 26, CIFAR-10 Batch 2:  loss: 1.3409 val_acc: 0.4970\n",
      "Epoch 26, CIFAR-10 Batch 3:  loss: 1.1983 val_acc: 0.5026\n",
      "Epoch 26, CIFAR-10 Batch 4:  loss: 1.4024 val_acc: 0.4890\n",
      "Epoch 26, CIFAR-10 Batch 5:  loss: 1.2695 val_acc: 0.4978\n",
      "Epoch 27, CIFAR-10 Batch 1:  loss: 1.3631 val_acc: 0.4894\n",
      "Epoch 27, CIFAR-10 Batch 2:  loss: 1.3490 val_acc: 0.4836\n",
      "Epoch 27, CIFAR-10 Batch 3:  loss: 1.2213 val_acc: 0.4912\n",
      "Epoch 27, CIFAR-10 Batch 4:  loss: 1.3863 val_acc: 0.4872\n",
      "Epoch 27, CIFAR-10 Batch 5:  loss: 1.2461 val_acc: 0.5086\n",
      "Epoch 28, CIFAR-10 Batch 1:  loss: 1.3474 val_acc: 0.5014\n",
      "Epoch 28, CIFAR-10 Batch 2:  loss: 1.2918 val_acc: 0.4976\n",
      "Epoch 28, CIFAR-10 Batch 3:  loss: 1.1643 val_acc: 0.5062\n",
      "Epoch 28, CIFAR-10 Batch 4:  loss: 1.3809 val_acc: 0.4992\n",
      "Epoch 28, CIFAR-10 Batch 5:  loss: 1.2696 val_acc: 0.5038\n",
      "Epoch 29, CIFAR-10 Batch 1:  loss: 1.3726 val_acc: 0.4836\n",
      "Epoch 29, CIFAR-10 Batch 2:  loss: 1.3026 val_acc: 0.4950\n"
     ]
    },
    {
     "name": "stdout",
     "output_type": "stream",
     "text": [
      "Epoch 29, CIFAR-10 Batch 3:  loss: 1.1618 val_acc: 0.5062\n",
      "Epoch 29, CIFAR-10 Batch 4:  loss: 1.3906 val_acc: 0.5002\n",
      "Epoch 29, CIFAR-10 Batch 5:  loss: 1.2313 val_acc: 0.5024\n",
      "Epoch 30, CIFAR-10 Batch 1:  loss: 1.3363 val_acc: 0.4898\n",
      "Epoch 30, CIFAR-10 Batch 2:  loss: 1.3021 val_acc: 0.4830\n",
      "Epoch 30, CIFAR-10 Batch 3:  loss: 1.1929 val_acc: 0.4888\n",
      "Epoch 30, CIFAR-10 Batch 4:  loss: 1.3695 val_acc: 0.4966\n",
      "Epoch 30, CIFAR-10 Batch 5:  loss: 1.2090 val_acc: 0.4976\n",
      "Epoch 31, CIFAR-10 Batch 1:  loss: 1.3447 val_acc: 0.5052\n",
      "Epoch 31, CIFAR-10 Batch 2:  loss: 1.2988 val_acc: 0.4922\n",
      "Epoch 31, CIFAR-10 Batch 3:  loss: 1.2055 val_acc: 0.4904\n",
      "Epoch 31, CIFAR-10 Batch 4:  loss: 1.3378 val_acc: 0.4974\n",
      "Epoch 31, CIFAR-10 Batch 5:  loss: 1.1707 val_acc: 0.5020\n",
      "Epoch 32, CIFAR-10 Batch 1:  loss: 1.3513 val_acc: 0.4840\n",
      "Epoch 32, CIFAR-10 Batch 2:  loss: 1.2965 val_acc: 0.4934\n",
      "Epoch 32, CIFAR-10 Batch 3:  loss: 1.1546 val_acc: 0.5022\n",
      "Epoch 32, CIFAR-10 Batch 4:  loss: 1.3343 val_acc: 0.4988\n",
      "Epoch 32, CIFAR-10 Batch 5:  loss: 1.1937 val_acc: 0.5072\n",
      "Epoch 33, CIFAR-10 Batch 1:  loss: 1.2915 val_acc: 0.5100\n",
      "Epoch 33, CIFAR-10 Batch 2:  loss: 1.2727 val_acc: 0.5034\n",
      "Epoch 33, CIFAR-10 Batch 3:  loss: 1.1787 val_acc: 0.5070\n",
      "Epoch 33, CIFAR-10 Batch 4:  loss: 1.3375 val_acc: 0.5076\n",
      "Epoch 33, CIFAR-10 Batch 5:  loss: 1.2136 val_acc: 0.5106\n",
      "Epoch 34, CIFAR-10 Batch 1:  loss: 1.3055 val_acc: 0.5002\n",
      "Epoch 34, CIFAR-10 Batch 2:  loss: 1.2775 val_acc: 0.4972\n",
      "Epoch 34, CIFAR-10 Batch 3:  loss: 1.1620 val_acc: 0.5036\n",
      "Epoch 34, CIFAR-10 Batch 4:  loss: 1.3129 val_acc: 0.5054\n",
      "Epoch 34, CIFAR-10 Batch 5:  loss: 1.1504 val_acc: 0.5114\n",
      "Epoch 35, CIFAR-10 Batch 1:  loss: 1.3349 val_acc: 0.5014\n",
      "Epoch 35, CIFAR-10 Batch 2:  loss: 1.2424 val_acc: 0.5006\n",
      "Epoch 35, CIFAR-10 Batch 3:  loss: 1.1862 val_acc: 0.5012\n",
      "Epoch 35, CIFAR-10 Batch 4:  loss: 1.3248 val_acc: 0.5048\n",
      "Epoch 35, CIFAR-10 Batch 5:  loss: 1.1575 val_acc: 0.5062\n",
      "Epoch 36, CIFAR-10 Batch 1:  loss: 1.2643 val_acc: 0.5084\n",
      "Epoch 36, CIFAR-10 Batch 2:  loss: 1.2486 val_acc: 0.5002\n",
      "Epoch 36, CIFAR-10 Batch 3:  loss: 1.1748 val_acc: 0.4820\n",
      "Epoch 36, CIFAR-10 Batch 4:  loss: 1.3252 val_acc: 0.4980\n",
      "Epoch 36, CIFAR-10 Batch 5:  loss: 1.1629 val_acc: 0.5094\n",
      "Epoch 37, CIFAR-10 Batch 1:  loss: 1.2910 val_acc: 0.5156\n",
      "Epoch 37, CIFAR-10 Batch 2:  loss: 1.2576 val_acc: 0.4954\n",
      "Epoch 37, CIFAR-10 Batch 3:  loss: 1.1420 val_acc: 0.5074\n",
      "Epoch 37, CIFAR-10 Batch 4:  loss: 1.3065 val_acc: 0.5034\n",
      "Epoch 37, CIFAR-10 Batch 5:  loss: 1.1674 val_acc: 0.5116\n",
      "Epoch 38, CIFAR-10 Batch 1:  loss: 1.2641 val_acc: 0.5070\n",
      "Epoch 38, CIFAR-10 Batch 2:  loss: 1.2715 val_acc: 0.4960\n",
      "Epoch 38, CIFAR-10 Batch 3:  loss: 1.1010 val_acc: 0.5122\n",
      "Epoch 38, CIFAR-10 Batch 4:  loss: 1.3066 val_acc: 0.5068\n",
      "Epoch 38, CIFAR-10 Batch 5:  loss: 1.1797 val_acc: 0.5098\n",
      "Epoch 39, CIFAR-10 Batch 1:  loss: 1.2620 val_acc: 0.5094\n",
      "Epoch 39, CIFAR-10 Batch 2:  loss: 1.2308 val_acc: 0.4922\n",
      "Epoch 39, CIFAR-10 Batch 3:  loss: 1.1116 val_acc: 0.5124\n",
      "Epoch 39, CIFAR-10 Batch 4:  loss: 1.3148 val_acc: 0.4972\n",
      "Epoch 39, CIFAR-10 Batch 5:  loss: 1.1492 val_acc: 0.5124\n",
      "Epoch 40, CIFAR-10 Batch 1:  loss: 1.2534 val_acc: 0.5088\n",
      "Epoch 40, CIFAR-10 Batch 2:  loss: 1.2606 val_acc: 0.4832\n",
      "Epoch 40, CIFAR-10 Batch 3:  loss: 1.1334 val_acc: 0.5148\n",
      "Epoch 40, CIFAR-10 Batch 4:  loss: 1.3118 val_acc: 0.5096\n",
      "Epoch 40, CIFAR-10 Batch 5:  loss: 1.1534 val_acc: 0.5142\n",
      "Epoch 41, CIFAR-10 Batch 1:  loss: 1.2468 val_acc: 0.5146\n",
      "Epoch 41, CIFAR-10 Batch 2:  loss: 1.2634 val_acc: 0.4922\n",
      "Epoch 41, CIFAR-10 Batch 3:  loss: 1.1372 val_acc: 0.5068\n",
      "Epoch 41, CIFAR-10 Batch 4:  loss: 1.2782 val_acc: 0.5100\n",
      "Epoch 41, CIFAR-10 Batch 5:  loss: 1.1508 val_acc: 0.5084\n",
      "Epoch 42, CIFAR-10 Batch 1:  loss: 1.2770 val_acc: 0.5056\n",
      "Epoch 42, CIFAR-10 Batch 2:  loss: 1.2614 val_acc: 0.4986\n",
      "Epoch 42, CIFAR-10 Batch 3:  loss: 1.1388 val_acc: 0.5074\n",
      "Epoch 42, CIFAR-10 Batch 4:  loss: 1.2599 val_acc: 0.5140\n",
      "Epoch 42, CIFAR-10 Batch 5:  loss: 1.2237 val_acc: 0.5040\n",
      "Epoch 43, CIFAR-10 Batch 1:  loss: 1.2470 val_acc: 0.4980\n",
      "Epoch 43, CIFAR-10 Batch 2:  loss: 1.2351 val_acc: 0.5050\n",
      "Epoch 43, CIFAR-10 Batch 3:  loss: 1.1164 val_acc: 0.5140\n",
      "Epoch 43, CIFAR-10 Batch 4:  loss: 1.2330 val_acc: 0.5050\n",
      "Epoch 43, CIFAR-10 Batch 5:  loss: 1.1583 val_acc: 0.5116\n",
      "Epoch 44, CIFAR-10 Batch 1:  loss: 1.2304 val_acc: 0.5118\n",
      "Epoch 44, CIFAR-10 Batch 2:  loss: 1.2567 val_acc: 0.5034\n",
      "Epoch 44, CIFAR-10 Batch 3:  loss: 1.1164 val_acc: 0.5100\n",
      "Epoch 44, CIFAR-10 Batch 4:  loss: 1.2356 val_acc: 0.5102\n",
      "Epoch 44, CIFAR-10 Batch 5:  loss: 1.1664 val_acc: 0.5090\n",
      "Epoch 45, CIFAR-10 Batch 1:  loss: 1.2081 val_acc: 0.5116\n",
      "Epoch 45, CIFAR-10 Batch 2:  loss: 1.2591 val_acc: 0.4956\n",
      "Epoch 45, CIFAR-10 Batch 3:  loss: 1.1391 val_acc: 0.5006\n",
      "Epoch 45, CIFAR-10 Batch 4:  loss: 1.2390 val_acc: 0.5076\n",
      "Epoch 45, CIFAR-10 Batch 5:  loss: 1.2132 val_acc: 0.4966\n"
     ]
    }
   ],
   "source": [
    "\"\"\"\n",
    "DON'T MODIFY ANYTHING IN THIS CELL\n",
    "\"\"\"\n",
    "save_model_path = './image_classification'\n",
    "\n",
    "print('Training...')\n",
    "with tf.Session() as sess:\n",
    "    # Initializing the variables\n",
    "    sess.run(tf.global_variables_initializer())\n",
    "    \n",
    "    # Training cycle\n",
    "    for epoch in range(epochs):\n",
    "        # Loop over all batches\n",
    "        n_batches = 5\n",
    "        for batch_i in range(1, n_batches + 1):\n",
    "            for batch_features, batch_labels in helper.load_preprocess_training_batch(batch_i, batch_size):\n",
    "                train_neural_network(sess, optimizer, keep_probability, batch_features, batch_labels)\n",
    "            print('Epoch {:>2}, CIFAR-10 Batch {}:  '.format(epoch + 1, batch_i), end='')\n",
    "            print_stats(sess, batch_features, batch_labels, cost, accuracy)\n",
    "            \n",
    "    # Save Model\n",
    "    saver = tf.train.Saver()\n",
    "    save_path = saver.save(sess, save_model_path)"
   ]
  },
  {
   "cell_type": "markdown",
   "metadata": {},
   "source": [
    "# 检查点\n",
    "\n",
    "模型已保存到本地。\n",
    "\n",
    "## 测试模型\n",
    "\n",
    "利用测试数据集测试你的模型。这将是最终的准确率。你的准确率应该高于 50%。如果没达到，请继续调整模型结构和参数。"
   ]
  },
  {
   "cell_type": "code",
   "execution_count": 18,
   "metadata": {},
   "outputs": [
    {
     "name": "stdout",
     "output_type": "stream",
     "text": [
      "INFO:tensorflow:Restoring parameters from ./image_classification\n",
      "Testing Accuracy: 0.5065268987341772\n",
      "\n"
     ]
    },
    {
     "data": {
      "image/png": "[encoded data removed]",
      "text/plain": [
       "<matplotlib.figure.Figure at 0x7f38546e4470>"
      ]
     },
     "metadata": {
      "image/png": {
       "height": 319,
       "width": 355
      }
     },
     "output_type": "display_data"
    }
   ],
   "source": [
    "\"\"\"\n",
    "DON'T MODIFY ANYTHING IN THIS CELL\n",
    "\"\"\"\n",
    "%matplotlib inline\n",
    "%config InlineBackend.figure_format = 'retina'\n",
    "\n",
    "import tensorflow as tf\n",
    "import pickle\n",
    "import helper\n",
    "import random\n",
    "\n",
    "# Set batch size if not already set\n",
    "try:\n",
    "    if batch_size:\n",
    "        pass\n",
    "except NameError:\n",
    "    batch_size = 64\n",
    "\n",
    "save_model_path = './image_classification'\n",
    "n_samples = 4\n",
    "top_n_predictions = 3\n",
    "\n",
    "def test_model():\n",
    "    \"\"\"\n",
    "    Test the saved model against the test dataset\n",
    "    \"\"\"\n",
    "\n",
    "    test_features, test_labels = pickle.load(open('preprocess_test.p', mode='rb'))\n",
    "    loaded_graph = tf.Graph()\n",
    "\n",
    "    with tf.Session(graph=loaded_graph) as sess:\n",
    "        # Load model\n",
    "        loader = tf.train.import_meta_graph(save_model_path + '.meta')\n",
    "        loader.restore(sess, save_model_path)\n",
    "\n",
    "        # Get Tensors from loaded model\n",
    "        loaded_x = loaded_graph.get_tensor_by_name('x:0')\n",
    "        loaded_y = loaded_graph.get_tensor_by_name('y:0')\n",
    "        loaded_keep_prob = loaded_graph.get_tensor_by_name('keep_prob:0')\n",
    "        loaded_logits = loaded_graph.get_tensor_by_name('logits:0')\n",
    "        loaded_acc = loaded_graph.get_tensor_by_name('accuracy:0')\n",
    "        \n",
    "        # Get accuracy in batches for memory limitations\n",
    "        test_batch_acc_total = 0\n",
    "        test_batch_count = 0\n",
    "        \n",
    "        for test_feature_batch, test_label_batch in helper.batch_features_labels(test_features, test_labels, batch_size):\n",
    "            test_batch_acc_total += sess.run(\n",
    "                loaded_acc,\n",
    "                feed_dict={loaded_x: test_feature_batch, loaded_y: test_label_batch, loaded_keep_prob: 1.0})\n",
    "            test_batch_count += 1\n",
    "\n",
    "        print('Testing Accuracy: {}\\n'.format(test_batch_acc_total/test_batch_count))\n",
    "\n",
    "        # Print Random Samples\n",
    "        random_test_features, random_test_labels = tuple(zip(*random.sample(list(zip(test_features, test_labels)), n_samples)))\n",
    "        random_test_predictions = sess.run(\n",
    "            tf.nn.top_k(tf.nn.softmax(loaded_logits), top_n_predictions),\n",
    "            feed_dict={loaded_x: random_test_features, loaded_y: random_test_labels, loaded_keep_prob: 1.0})\n",
    "        helper.display_image_predictions(random_test_features, random_test_labels, random_test_predictions)\n",
    "\n",
    "\n",
    "test_model()"
   ]
  },
  {
   "cell_type": "markdown",
   "metadata": {},
   "source": [
    "## 为何准确率只有50-80%？\n",
    "\n",
    "你可能想问，为何准确率不能更高了？首先，对于简单的 CNN 网络来说，50% 已经不低了。纯粹猜测的准确率为10%。但是，你可能注意到有人的准确率[远远超过 80%](http://rodrigob.github.io/are_we_there_yet/build/classification_datasets_results.html#43494641522d3130)。这是因为我们还没有介绍所有的神经网络知识。我们还需要掌握一些其他技巧。\n",
    "\n",
    "## 提交项目\n",
    "\n",
    "提交项目时，确保先运行所有单元，然后再保存记事本。将 notebook 文件另存为“dlnd_image_classification.ipynb”，再在目录 \"File\" -> \"Download as\" 另存为 HTML 格式。请在提交的项目中包含 “helper.py” 和 “problem_unittests.py” 文件。\n"
   ]
  }
 ],
 "metadata": {
  "kernelspec": {
   "display_name": "Python 3",
   "language": "python",
   "name": "python3"
  },
  "language_info": {
   "codemirror_mode": {
    "name": "ipython",
    "version": 3
   },
   "file_extension": ".py",
   "mimetype": "text/x-python",
   "name": "python",
   "nbconvert_exporter": "python",
   "pygments_lexer": "ipython3",
   "version": "3.5.3"
  }
 },
 "nbformat": 4,
 "nbformat_minor": 1
}
